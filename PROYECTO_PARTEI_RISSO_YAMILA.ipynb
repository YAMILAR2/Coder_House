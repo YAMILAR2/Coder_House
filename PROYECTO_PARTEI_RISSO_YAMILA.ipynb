{
  "nbformat": 4,
  "nbformat_minor": 0,
  "metadata": {
    "colab": {
      "provenance": [],
      "mount_file_id": "14RX3o8r_IFAUjgZI5Zutmk_lwwiKehWH",
      "authorship_tag": "ABX9TyMPwHRwIayBKnVj50nQlUmf",
      "include_colab_link": true
    },
    "kernelspec": {
      "name": "python3",
      "display_name": "Python 3"
    },
    "language_info": {
      "name": "python"
    }
  },
  "cells": [
    {
      "cell_type": "markdown",
      "metadata": {
        "id": "view-in-github",
        "colab_type": "text"
      },
      "source": [
        "<a href=\"https://colab.research.google.com/github/YAMILAR2/Coder_House/blob/main/PROYECTO_PARTEI_RISSO_YAMILA.ipynb\" target=\"_parent\"><img src=\"https://colab.research.google.com/assets/colab-badge.svg\" alt=\"Open In Colab\"/></a>"
      ]
    },
    {
      "cell_type": "code",
      "execution_count": 8,
      "metadata": {
        "colab": {
          "base_uri": "https://localhost:8080/"
        },
        "collapsed": true,
        "id": "wotNTfCEi8Sd",
        "outputId": "a7f28e7a-990c-4c46-8c62-cb76871677a2"
      },
      "outputs": [
        {
          "output_type": "stream",
          "name": "stdout",
          "text": [
            "/usr/local/lib/python3.10/dist-packages/gdown/__main__.py:140: FutureWarning: Option `--id` was deprecated in version 4.3.1 and will be removed in 5.0. You don't need to pass it anymore to use a file ID.\n",
            "  warnings.warn(\n",
            "Downloading...\n",
            "From: https://drive.google.com/uc?id=1278BchlGhBpR2EySdlVmlPzdS9FrMTEn\n",
            "To: /content/telecom_churn.csv\n",
            "100% 129k/129k [00:00<00:00, 111MB/s]\n"
          ]
        }
      ],
      "source": [
        "!gdown --id 1278BchlGhBpR2EySdlVmlPzdS9FrMTEn"
      ]
    },
    {
      "cell_type": "code",
      "source": [],
      "metadata": {
        "id": "DN8cjYAbj2xQ"
      },
      "execution_count": null,
      "outputs": []
    }
  ]
}